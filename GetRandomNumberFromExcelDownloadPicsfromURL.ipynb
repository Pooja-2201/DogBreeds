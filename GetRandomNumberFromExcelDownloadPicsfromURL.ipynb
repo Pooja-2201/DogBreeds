{
 "cells": [
  {
   "cell_type": "code",
   "execution_count": 1,
   "id": "d22143d7",
   "metadata": {},
   "outputs": [],
   "source": [
    "import pandas as pd\n",
    "import requests\n",
    "import random\n",
    "from urllib.request import urlretrieve\n",
    "import os"
   ]
  },
  {
   "cell_type": "code",
   "execution_count": 2,
   "id": "54e5390f",
   "metadata": {},
   "outputs": [],
   "source": [
    "url = 'https://dog.ceo/api/breeds/list/all'"
   ]
  },
  {
   "cell_type": "code",
   "execution_count": 3,
   "id": "46a2dada",
   "metadata": {},
   "outputs": [],
   "source": [
    "response = requests.get(url)"
   ]
  },
  {
   "cell_type": "code",
   "execution_count": 4,
   "id": "fd59a81f",
   "metadata": {},
   "outputs": [],
   "source": [
    "data = response.json()"
   ]
  },
  {
   "cell_type": "code",
   "execution_count": 5,
   "id": "2152d0d7",
   "metadata": {},
   "outputs": [],
   "source": [
    "breeds = data['message']"
   ]
  },
  {
   "cell_type": "code",
   "execution_count": 6,
   "id": "a3ecf54a",
   "metadata": {},
   "outputs": [],
   "source": [
    "df = pd.DataFrame(breeds.items(), columns=['Breed', 'Dog'])"
   ]
  },
  {
   "cell_type": "code",
   "execution_count": 7,
   "id": "e7e3a095",
   "metadata": {},
   "outputs": [
    {
     "data": {
      "text/html": [
       "<div>\n",
       "<style scoped>\n",
       "    .dataframe tbody tr th:only-of-type {\n",
       "        vertical-align: middle;\n",
       "    }\n",
       "\n",
       "    .dataframe tbody tr th {\n",
       "        vertical-align: top;\n",
       "    }\n",
       "\n",
       "    .dataframe thead th {\n",
       "        text-align: right;\n",
       "    }\n",
       "</style>\n",
       "<table border=\"1\" class=\"dataframe\">\n",
       "  <thead>\n",
       "    <tr style=\"text-align: right;\">\n",
       "      <th></th>\n",
       "      <th>Breed</th>\n",
       "      <th>Dog</th>\n",
       "    </tr>\n",
       "  </thead>\n",
       "  <tbody>\n",
       "    <tr>\n",
       "      <th>0</th>\n",
       "      <td>affenpinscher</td>\n",
       "      <td>[]</td>\n",
       "    </tr>\n",
       "    <tr>\n",
       "      <th>1</th>\n",
       "      <td>african</td>\n",
       "      <td>[]</td>\n",
       "    </tr>\n",
       "    <tr>\n",
       "      <th>2</th>\n",
       "      <td>airedale</td>\n",
       "      <td>[]</td>\n",
       "    </tr>\n",
       "    <tr>\n",
       "      <th>3</th>\n",
       "      <td>akita</td>\n",
       "      <td>[]</td>\n",
       "    </tr>\n",
       "    <tr>\n",
       "      <th>4</th>\n",
       "      <td>appenzeller</td>\n",
       "      <td>[]</td>\n",
       "    </tr>\n",
       "    <tr>\n",
       "      <th>...</th>\n",
       "      <td>...</td>\n",
       "      <td>...</td>\n",
       "    </tr>\n",
       "    <tr>\n",
       "      <th>93</th>\n",
       "      <td>vizsla</td>\n",
       "      <td>[]</td>\n",
       "    </tr>\n",
       "    <tr>\n",
       "      <th>94</th>\n",
       "      <td>waterdog</td>\n",
       "      <td>[spanish]</td>\n",
       "    </tr>\n",
       "    <tr>\n",
       "      <th>95</th>\n",
       "      <td>weimaraner</td>\n",
       "      <td>[]</td>\n",
       "    </tr>\n",
       "    <tr>\n",
       "      <th>96</th>\n",
       "      <td>whippet</td>\n",
       "      <td>[]</td>\n",
       "    </tr>\n",
       "    <tr>\n",
       "      <th>97</th>\n",
       "      <td>wolfhound</td>\n",
       "      <td>[irish]</td>\n",
       "    </tr>\n",
       "  </tbody>\n",
       "</table>\n",
       "<p>98 rows × 2 columns</p>\n",
       "</div>"
      ],
      "text/plain": [
       "            Breed        Dog\n",
       "0   affenpinscher         []\n",
       "1         african         []\n",
       "2        airedale         []\n",
       "3           akita         []\n",
       "4     appenzeller         []\n",
       "..            ...        ...\n",
       "93         vizsla         []\n",
       "94       waterdog  [spanish]\n",
       "95     weimaraner         []\n",
       "96        whippet         []\n",
       "97      wolfhound    [irish]\n",
       "\n",
       "[98 rows x 2 columns]"
      ]
     },
     "execution_count": 7,
     "metadata": {},
     "output_type": "execute_result"
    }
   ],
   "source": [
    "df"
   ]
  },
  {
   "cell_type": "code",
   "execution_count": 8,
   "id": "98dbf1a4",
   "metadata": {},
   "outputs": [],
   "source": [
    "file_path = 'BreedRandom.xlsx'\n",
    "df.to_excel(file_path)"
   ]
  },
  {
   "cell_type": "code",
   "execution_count": 9,
   "id": "80402351",
   "metadata": {},
   "outputs": [],
   "source": [
    "df = pd.read_excel('BreedRandom.xlsx')"
   ]
  },
  {
   "cell_type": "markdown",
   "id": "d3a05ac2",
   "metadata": {},
   "source": [
    "#### Find the Database Length"
   ]
  },
  {
   "cell_type": "code",
   "execution_count": 10,
   "id": "2cd2a8b1",
   "metadata": {},
   "outputs": [],
   "source": [
    "total_length = len(df)"
   ]
  },
  {
   "cell_type": "code",
   "execution_count": 11,
   "id": "def4b5de",
   "metadata": {},
   "outputs": [
    {
     "data": {
      "text/plain": [
       "98"
      ]
     },
     "execution_count": 11,
     "metadata": {},
     "output_type": "execute_result"
    }
   ],
   "source": [
    "total_length"
   ]
  },
  {
   "cell_type": "markdown",
   "id": "f4629b69",
   "metadata": {},
   "source": [
    "#### Generate Random Number"
   ]
  },
  {
   "cell_type": "code",
   "execution_count": 12,
   "id": "ec7fc8f3",
   "metadata": {},
   "outputs": [],
   "source": [
    "random_number = random.randint(0, total_length)"
   ]
  },
  {
   "cell_type": "code",
   "execution_count": 13,
   "id": "3533c7ce",
   "metadata": {},
   "outputs": [
    {
     "data": {
      "text/plain": [
       "42"
      ]
     },
     "execution_count": 13,
     "metadata": {},
     "output_type": "execute_result"
    }
   ],
   "source": [
    "random_number"
   ]
  },
  {
   "cell_type": "markdown",
   "id": "eacc935b",
   "metadata": {},
   "source": [
    "#### Get the Breed name of the Random Number "
   ]
  },
  {
   "cell_type": "code",
   "execution_count": 14,
   "id": "86d0e93f",
   "metadata": {},
   "outputs": [],
   "source": [
    "dog_breed = df.loc[random_number, 'Breed']"
   ]
  },
  {
   "cell_type": "code",
   "execution_count": 15,
   "id": "a979a8cb",
   "metadata": {},
   "outputs": [
    {
     "data": {
      "text/plain": [
       "'hound'"
      ]
     },
     "execution_count": 15,
     "metadata": {},
     "output_type": "execute_result"
    }
   ],
   "source": [
    "dog_breed"
   ]
  },
  {
   "cell_type": "markdown",
   "id": "c2d4f59c",
   "metadata": {},
   "source": [
    "#### Create URL"
   ]
  },
  {
   "cell_type": "code",
   "execution_count": 16,
   "id": "19040869",
   "metadata": {},
   "outputs": [],
   "source": [
    "url1 = f'https://dog.ceo/api/breed/{dog_breed}/images/random/'"
   ]
  },
  {
   "cell_type": "code",
   "execution_count": 17,
   "id": "2cd9b7b2",
   "metadata": {},
   "outputs": [
    {
     "data": {
      "text/plain": [
       "'https://dog.ceo/api/breed/hound/images/random/'"
      ]
     },
     "execution_count": 17,
     "metadata": {},
     "output_type": "execute_result"
    }
   ],
   "source": [
    "url1"
   ]
  },
  {
   "cell_type": "code",
   "execution_count": 18,
   "id": "80f978be",
   "metadata": {},
   "outputs": [],
   "source": [
    "response = requests.get(url1) "
   ]
  },
  {
   "cell_type": "code",
   "execution_count": 19,
   "id": "3cc7e22e",
   "metadata": {},
   "outputs": [],
   "source": [
    "data = response.json()\n"
   ]
  },
  {
   "cell_type": "markdown",
   "id": "eeb589d2",
   "metadata": {},
   "source": [
    "#### Get the \"message\" key from the response"
   ]
  },
  {
   "cell_type": "code",
   "execution_count": 20,
   "id": "4bd2ad32",
   "metadata": {},
   "outputs": [],
   "source": [
    "image_link = data['message']"
   ]
  },
  {
   "cell_type": "code",
   "execution_count": 21,
   "id": "f9bef322",
   "metadata": {},
   "outputs": [],
   "source": [
    "response = requests.get(image_link)"
   ]
  },
  {
   "cell_type": "code",
   "execution_count": 22,
   "id": "be26a6da",
   "metadata": {},
   "outputs": [],
   "source": [
    "folder_name = 'DogBreedPics'"
   ]
  },
  {
   "cell_type": "markdown",
   "id": "155a97f9",
   "metadata": {},
   "source": [
    "#### Give file name dynamically in particular folder"
   ]
  },
  {
   "cell_type": "code",
   "execution_count": 23,
   "id": "8310f845",
   "metadata": {},
   "outputs": [],
   "source": [
    "image_path = os.path.join(folder_name, f'dog_image_{random_number}.jpg')"
   ]
  },
  {
   "cell_type": "markdown",
   "id": "915928f8",
   "metadata": {},
   "source": [
    "#### Download images"
   ]
  },
  {
   "cell_type": "code",
   "execution_count": 24,
   "id": "3cc24dd2",
   "metadata": {},
   "outputs": [
    {
     "name": "stdout",
     "output_type": "stream",
     "text": [
      "Image downloaded: DogBreedPics\\dog_image_42.jpg\n"
     ]
    }
   ],
   "source": [
    "with open(image_path, 'wb') as image_file:\n",
    "    image_file.write(response.content)\n",
    "\n",
    "print(f\"Image downloaded: {image_path}\")\n"
   ]
  },
  {
   "cell_type": "code",
   "execution_count": null,
   "id": "c788eeef",
   "metadata": {},
   "outputs": [],
   "source": []
  },
  {
   "cell_type": "code",
   "execution_count": null,
   "id": "f434704d",
   "metadata": {},
   "outputs": [],
   "source": []
  }
 ],
 "metadata": {
  "kernelspec": {
   "display_name": "Python 3 (ipykernel)",
   "language": "python",
   "name": "python3"
  },
  "language_info": {
   "codemirror_mode": {
    "name": "ipython",
    "version": 3
   },
   "file_extension": ".py",
   "mimetype": "text/x-python",
   "name": "python",
   "nbconvert_exporter": "python",
   "pygments_lexer": "ipython3",
   "version": "3.8.8"
  }
 },
 "nbformat": 4,
 "nbformat_minor": 5
}
