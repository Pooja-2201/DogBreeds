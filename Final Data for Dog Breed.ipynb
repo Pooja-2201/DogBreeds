{
 "cells": [
  {
   "cell_type": "code",
   "execution_count": 1,
   "id": "e548bfa3",
   "metadata": {},
   "outputs": [],
   "source": [
    "import json\n",
    "import pandas as pd\n",
    "import requests"
   ]
  },
  {
   "cell_type": "code",
   "execution_count": 2,
   "id": "2027566e",
   "metadata": {},
   "outputs": [],
   "source": [
    "url = 'https://dog.ceo/api/breeds/list/all'\n",
    "response = requests.get(url)\n",
    "json_data = json.loads(response.text)"
   ]
  },
  {
   "cell_type": "code",
   "execution_count": 3,
   "id": "65094ba8",
   "metadata": {},
   "outputs": [],
   "source": [
    "file_path = 'dog_data1.json'\n",
    "with open(file_path, 'w') as json_file:\n",
    "    json.dump(json_data, json_file)"
   ]
  },
  {
   "cell_type": "code",
   "execution_count": 4,
   "id": "2f32d471",
   "metadata": {},
   "outputs": [],
   "source": [
    "with open(file_path, 'r') as json_file:\n",
    "    data = json.load(json_file)"
   ]
  },
  {
   "cell_type": "code",
   "execution_count": 5,
   "id": "32400ed6",
   "metadata": {},
   "outputs": [],
   "source": [
    "breeds = data['message']\n",
    "df = pd.json_normalize(breeds)"
   ]
  },
  {
   "cell_type": "markdown",
   "id": "9e6aa564",
   "metadata": {},
   "source": [
    "#### The stack() function is used to pivot the columns of the DataFrame vertically, resulting in a stacked series with a multi-level index.\n",
    "#### The reset_index() function is called to reset the index of the stacked series. The level=1 argument specifies to reset the inner level of the index, and drop=True indicates that the original index should be dropped.\n",
    "#### The to_frame() function converts the stacked series into a DataFrame, with the stacked values placed in a new column called 'Breed'."
   ]
  },
  {
   "cell_type": "code",
   "execution_count": 6,
   "id": "1bb55f14",
   "metadata": {},
   "outputs": [],
   "source": [
    "df = df.stack().reset_index(level=1, drop=True).to_frame('Breed').reset_index().rename(columns={'level_0': 'Dog'})"
   ]
  },
  {
   "cell_type": "code",
   "execution_count": 7,
   "id": "945426f0",
   "metadata": {
    "scrolled": true
   },
   "outputs": [],
   "source": [
    "df['Breed'] = df['Breed'].replace([], float('NaN')) \n"
   ]
  },
  {
   "cell_type": "code",
   "execution_count": 8,
   "id": "954263a5",
   "metadata": {},
   "outputs": [],
   "source": [
    "df.columns = ['Dog', 'Breed']\n",
    "df.reset_index(drop=False, inplace=True)\n",
    "\n"
   ]
  },
  {
   "cell_type": "code",
   "execution_count": null,
   "id": "a650d26e",
   "metadata": {},
   "outputs": [],
   "source": []
  },
  {
   "cell_type": "code",
   "execution_count": 10,
   "id": "321f92ea",
   "metadata": {},
   "outputs": [
    {
     "data": {
      "text/html": [
       "<div>\n",
       "<style scoped>\n",
       "    .dataframe tbody tr th:only-of-type {\n",
       "        vertical-align: middle;\n",
       "    }\n",
       "\n",
       "    .dataframe tbody tr th {\n",
       "        vertical-align: top;\n",
       "    }\n",
       "\n",
       "    .dataframe thead th {\n",
       "        text-align: right;\n",
       "    }\n",
       "</style>\n",
       "<table border=\"1\" class=\"dataframe\">\n",
       "  <thead>\n",
       "    <tr style=\"text-align: right;\">\n",
       "      <th></th>\n",
       "      <th>index</th>\n",
       "      <th>Dog</th>\n",
       "      <th>Breed</th>\n",
       "    </tr>\n",
       "  </thead>\n",
       "  <tbody>\n",
       "    <tr>\n",
       "      <th>0</th>\n",
       "      <td>0</td>\n",
       "      <td>0</td>\n",
       "      <td>[]</td>\n",
       "    </tr>\n",
       "    <tr>\n",
       "      <th>1</th>\n",
       "      <td>1</td>\n",
       "      <td>0</td>\n",
       "      <td>[]</td>\n",
       "    </tr>\n",
       "    <tr>\n",
       "      <th>2</th>\n",
       "      <td>2</td>\n",
       "      <td>0</td>\n",
       "      <td>[]</td>\n",
       "    </tr>\n",
       "    <tr>\n",
       "      <th>3</th>\n",
       "      <td>3</td>\n",
       "      <td>0</td>\n",
       "      <td>[]</td>\n",
       "    </tr>\n",
       "    <tr>\n",
       "      <th>4</th>\n",
       "      <td>4</td>\n",
       "      <td>0</td>\n",
       "      <td>[]</td>\n",
       "    </tr>\n",
       "    <tr>\n",
       "      <th>5</th>\n",
       "      <td>5</td>\n",
       "      <td>0</td>\n",
       "      <td>[shepherd]</td>\n",
       "    </tr>\n",
       "    <tr>\n",
       "      <th>6</th>\n",
       "      <td>6</td>\n",
       "      <td>0</td>\n",
       "      <td>[]</td>\n",
       "    </tr>\n",
       "    <tr>\n",
       "      <th>7</th>\n",
       "      <td>7</td>\n",
       "      <td>0</td>\n",
       "      <td>[]</td>\n",
       "    </tr>\n",
       "    <tr>\n",
       "      <th>8</th>\n",
       "      <td>8</td>\n",
       "      <td>0</td>\n",
       "      <td>[]</td>\n",
       "    </tr>\n",
       "    <tr>\n",
       "      <th>9</th>\n",
       "      <td>9</td>\n",
       "      <td>0</td>\n",
       "      <td>[]</td>\n",
       "    </tr>\n",
       "    <tr>\n",
       "      <th>10</th>\n",
       "      <td>10</td>\n",
       "      <td>0</td>\n",
       "      <td>[]</td>\n",
       "    </tr>\n",
       "    <tr>\n",
       "      <th>11</th>\n",
       "      <td>11</td>\n",
       "      <td>0</td>\n",
       "      <td>[]</td>\n",
       "    </tr>\n",
       "    <tr>\n",
       "      <th>12</th>\n",
       "      <td>12</td>\n",
       "      <td>0</td>\n",
       "      <td>[]</td>\n",
       "    </tr>\n",
       "    <tr>\n",
       "      <th>13</th>\n",
       "      <td>13</td>\n",
       "      <td>0</td>\n",
       "      <td>[]</td>\n",
       "    </tr>\n",
       "    <tr>\n",
       "      <th>14</th>\n",
       "      <td>14</td>\n",
       "      <td>0</td>\n",
       "      <td>[norwegian]</td>\n",
       "    </tr>\n",
       "    <tr>\n",
       "      <th>15</th>\n",
       "      <td>15</td>\n",
       "      <td>0</td>\n",
       "      <td>[boston, english, french]</td>\n",
       "    </tr>\n",
       "    <tr>\n",
       "      <th>16</th>\n",
       "      <td>16</td>\n",
       "      <td>0</td>\n",
       "      <td>[staffordshire]</td>\n",
       "    </tr>\n",
       "    <tr>\n",
       "      <th>17</th>\n",
       "      <td>17</td>\n",
       "      <td>0</td>\n",
       "      <td>[australian]</td>\n",
       "    </tr>\n",
       "    <tr>\n",
       "      <th>18</th>\n",
       "      <td>18</td>\n",
       "      <td>0</td>\n",
       "      <td>[]</td>\n",
       "    </tr>\n",
       "    <tr>\n",
       "      <th>19</th>\n",
       "      <td>19</td>\n",
       "      <td>0</td>\n",
       "      <td>[]</td>\n",
       "    </tr>\n",
       "  </tbody>\n",
       "</table>\n",
       "</div>"
      ],
      "text/plain": [
       "    index  Dog                      Breed\n",
       "0       0    0                         []\n",
       "1       1    0                         []\n",
       "2       2    0                         []\n",
       "3       3    0                         []\n",
       "4       4    0                         []\n",
       "5       5    0                 [shepherd]\n",
       "6       6    0                         []\n",
       "7       7    0                         []\n",
       "8       8    0                         []\n",
       "9       9    0                         []\n",
       "10     10    0                         []\n",
       "11     11    0                         []\n",
       "12     12    0                         []\n",
       "13     13    0                         []\n",
       "14     14    0                [norwegian]\n",
       "15     15    0  [boston, english, french]\n",
       "16     16    0            [staffordshire]\n",
       "17     17    0               [australian]\n",
       "18     18    0                         []\n",
       "19     19    0                         []"
      ]
     },
     "execution_count": 10,
     "metadata": {},
     "output_type": "execute_result"
    }
   ],
   "source": [
    "df.head(20)"
   ]
  },
  {
   "cell_type": "code",
   "execution_count": null,
   "id": "caee2a6c",
   "metadata": {},
   "outputs": [],
   "source": [
    "\n",
    "     "
   ]
  },
  {
   "cell_type": "code",
   "execution_count": null,
   "id": "d3f2bb85",
   "metadata": {},
   "outputs": [],
   "source": []
  },
  {
   "cell_type": "code",
   "execution_count": null,
   "id": "48be6ac2",
   "metadata": {},
   "outputs": [],
   "source": []
  }
 ],
 "metadata": {
  "kernelspec": {
   "display_name": "Python 3 (ipykernel)",
   "language": "python",
   "name": "python3"
  },
  "language_info": {
   "codemirror_mode": {
    "name": "ipython",
    "version": 3
   },
   "file_extension": ".py",
   "mimetype": "text/x-python",
   "name": "python",
   "nbconvert_exporter": "python",
   "pygments_lexer": "ipython3",
   "version": "3.8.8"
  }
 },
 "nbformat": 4,
 "nbformat_minor": 5
}
