{
 "cells": [
  {
   "cell_type": "code",
   "execution_count": 1,
   "id": "a1f1ec5e",
   "metadata": {},
   "outputs": [],
   "source": [
    "import pandas as pd\n",
    "import requests"
   ]
  },
  {
   "cell_type": "code",
   "execution_count": 2,
   "id": "494a7217",
   "metadata": {},
   "outputs": [],
   "source": [
    "url = 'https://dog.ceo/api/breeds/list/all'"
   ]
  },
  {
   "cell_type": "markdown",
   "id": "3c52d247",
   "metadata": {},
   "source": [
    "#### Send a GET request to the URL"
   ]
  },
  {
   "cell_type": "code",
   "execution_count": 3,
   "id": "77066457",
   "metadata": {},
   "outputs": [],
   "source": [
    "response = requests.get(url)"
   ]
  },
  {
   "cell_type": "markdown",
   "id": "03b05b75",
   "metadata": {},
   "source": [
    "####  Parse the JSON response"
   ]
  },
  {
   "cell_type": "code",
   "execution_count": 4,
   "id": "e5669ecf",
   "metadata": {},
   "outputs": [],
   "source": [
    "data = response.json()"
   ]
  },
  {
   "cell_type": "markdown",
   "id": "9a8f6ee7",
   "metadata": {},
   "source": [
    "#### Extract the required data from the JSON"
   ]
  },
  {
   "cell_type": "code",
   "execution_count": 5,
   "id": "5de259de",
   "metadata": {},
   "outputs": [],
   "source": [
    "breeds = data['message']"
   ]
  },
  {
   "cell_type": "markdown",
   "id": "2cbc450c",
   "metadata": {},
   "source": [
    "#### Make a DataFrame"
   ]
  },
  {
   "cell_type": "code",
   "execution_count": 6,
   "id": "a1d17590",
   "metadata": {},
   "outputs": [],
   "source": [
    "df = pd.DataFrame(breeds.items(), columns=['Breed', 'Dog'])"
   ]
  },
  {
   "cell_type": "code",
   "execution_count": 8,
   "id": "b11c05bc",
   "metadata": {},
   "outputs": [
    {
     "data": {
      "text/html": [
       "<div>\n",
       "<style scoped>\n",
       "    .dataframe tbody tr th:only-of-type {\n",
       "        vertical-align: middle;\n",
       "    }\n",
       "\n",
       "    .dataframe tbody tr th {\n",
       "        vertical-align: top;\n",
       "    }\n",
       "\n",
       "    .dataframe thead th {\n",
       "        text-align: right;\n",
       "    }\n",
       "</style>\n",
       "<table border=\"1\" class=\"dataframe\">\n",
       "  <thead>\n",
       "    <tr style=\"text-align: right;\">\n",
       "      <th></th>\n",
       "      <th>Breed</th>\n",
       "      <th>Dog</th>\n",
       "    </tr>\n",
       "  </thead>\n",
       "  <tbody>\n",
       "    <tr>\n",
       "      <th>0</th>\n",
       "      <td>affenpinscher</td>\n",
       "      <td>[]</td>\n",
       "    </tr>\n",
       "    <tr>\n",
       "      <th>1</th>\n",
       "      <td>african</td>\n",
       "      <td>[]</td>\n",
       "    </tr>\n",
       "    <tr>\n",
       "      <th>2</th>\n",
       "      <td>airedale</td>\n",
       "      <td>[]</td>\n",
       "    </tr>\n",
       "    <tr>\n",
       "      <th>3</th>\n",
       "      <td>akita</td>\n",
       "      <td>[]</td>\n",
       "    </tr>\n",
       "    <tr>\n",
       "      <th>4</th>\n",
       "      <td>appenzeller</td>\n",
       "      <td>[]</td>\n",
       "    </tr>\n",
       "    <tr>\n",
       "      <th>5</th>\n",
       "      <td>australian</td>\n",
       "      <td>[shepherd]</td>\n",
       "    </tr>\n",
       "    <tr>\n",
       "      <th>6</th>\n",
       "      <td>basenji</td>\n",
       "      <td>[]</td>\n",
       "    </tr>\n",
       "    <tr>\n",
       "      <th>7</th>\n",
       "      <td>beagle</td>\n",
       "      <td>[]</td>\n",
       "    </tr>\n",
       "    <tr>\n",
       "      <th>8</th>\n",
       "      <td>bluetick</td>\n",
       "      <td>[]</td>\n",
       "    </tr>\n",
       "    <tr>\n",
       "      <th>9</th>\n",
       "      <td>borzoi</td>\n",
       "      <td>[]</td>\n",
       "    </tr>\n",
       "    <tr>\n",
       "      <th>10</th>\n",
       "      <td>bouvier</td>\n",
       "      <td>[]</td>\n",
       "    </tr>\n",
       "    <tr>\n",
       "      <th>11</th>\n",
       "      <td>boxer</td>\n",
       "      <td>[]</td>\n",
       "    </tr>\n",
       "    <tr>\n",
       "      <th>12</th>\n",
       "      <td>brabancon</td>\n",
       "      <td>[]</td>\n",
       "    </tr>\n",
       "    <tr>\n",
       "      <th>13</th>\n",
       "      <td>briard</td>\n",
       "      <td>[]</td>\n",
       "    </tr>\n",
       "    <tr>\n",
       "      <th>14</th>\n",
       "      <td>buhund</td>\n",
       "      <td>[norwegian]</td>\n",
       "    </tr>\n",
       "    <tr>\n",
       "      <th>15</th>\n",
       "      <td>bulldog</td>\n",
       "      <td>[boston, english, french]</td>\n",
       "    </tr>\n",
       "    <tr>\n",
       "      <th>16</th>\n",
       "      <td>bullterrier</td>\n",
       "      <td>[staffordshire]</td>\n",
       "    </tr>\n",
       "    <tr>\n",
       "      <th>17</th>\n",
       "      <td>cattledog</td>\n",
       "      <td>[australian]</td>\n",
       "    </tr>\n",
       "    <tr>\n",
       "      <th>18</th>\n",
       "      <td>chihuahua</td>\n",
       "      <td>[]</td>\n",
       "    </tr>\n",
       "    <tr>\n",
       "      <th>19</th>\n",
       "      <td>chow</td>\n",
       "      <td>[]</td>\n",
       "    </tr>\n",
       "  </tbody>\n",
       "</table>\n",
       "</div>"
      ],
      "text/plain": [
       "            Breed                        Dog\n",
       "0   affenpinscher                         []\n",
       "1         african                         []\n",
       "2        airedale                         []\n",
       "3           akita                         []\n",
       "4     appenzeller                         []\n",
       "5      australian                 [shepherd]\n",
       "6         basenji                         []\n",
       "7          beagle                         []\n",
       "8        bluetick                         []\n",
       "9          borzoi                         []\n",
       "10        bouvier                         []\n",
       "11          boxer                         []\n",
       "12      brabancon                         []\n",
       "13         briard                         []\n",
       "14         buhund                [norwegian]\n",
       "15        bulldog  [boston, english, french]\n",
       "16    bullterrier            [staffordshire]\n",
       "17      cattledog               [australian]\n",
       "18      chihuahua                         []\n",
       "19           chow                         []"
      ]
     },
     "execution_count": 8,
     "metadata": {},
     "output_type": "execute_result"
    }
   ],
   "source": [
    "df.head(20)"
   ]
  },
  {
   "cell_type": "code",
   "execution_count": 9,
   "id": "b64d76fa",
   "metadata": {},
   "outputs": [],
   "source": [
    "file_path = 'BreedWithLink.xlsx'\n",
    "df.to_excel(file_path)"
   ]
  },
  {
   "cell_type": "code",
   "execution_count": null,
   "id": "284d37d9",
   "metadata": {},
   "outputs": [],
   "source": []
  }
 ],
 "metadata": {
  "kernelspec": {
   "display_name": "Python 3 (ipykernel)",
   "language": "python",
   "name": "python3"
  },
  "language_info": {
   "codemirror_mode": {
    "name": "ipython",
    "version": 3
   },
   "file_extension": ".py",
   "mimetype": "text/x-python",
   "name": "python",
   "nbconvert_exporter": "python",
   "pygments_lexer": "ipython3",
   "version": "3.8.8"
  }
 },
 "nbformat": 4,
 "nbformat_minor": 5
}
