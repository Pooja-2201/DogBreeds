{
 "cells": [
  {
   "cell_type": "code",
   "execution_count": 1,
   "id": "97c2e659",
   "metadata": {},
   "outputs": [],
   "source": [
    "import json\n",
    "import pandas as pd\n",
    "import requests"
   ]
  },
  {
   "cell_type": "code",
   "execution_count": 2,
   "id": "b26870b2",
   "metadata": {},
   "outputs": [],
   "source": [
    "# Define the URL\n",
    "url = 'https://dog.ceo/api/breeds/list/all'"
   ]
  },
  {
   "cell_type": "code",
   "execution_count": 3,
   "id": "8ce1e35c",
   "metadata": {},
   "outputs": [],
   "source": [
    "# Send a GET request to the URL\n",
    "response = requests.get(url)"
   ]
  },
  {
   "cell_type": "code",
   "execution_count": 4,
   "id": "46d4d8df",
   "metadata": {},
   "outputs": [],
   "source": [
    "# Parse the JSON response\n",
    "data = json.loads(response.text)"
   ]
  },
  {
   "cell_type": "code",
   "execution_count": 5,
   "id": "970d6635",
   "metadata": {},
   "outputs": [],
   "source": [
    "# Specify the file path to save the JSON data\n",
    "file_path = 'dog_dataNaN.json'"
   ]
  },
  {
   "cell_type": "code",
   "execution_count": 6,
   "id": "eb6e10aa",
   "metadata": {},
   "outputs": [],
   "source": [
    "# Write the data to a JSON file\n",
    "with open(file_path, 'w') as json_file:\n",
    "    json.dump(data, json_file, indent=4)"
   ]
  },
  {
   "cell_type": "code",
   "execution_count": 7,
   "id": "2ae0c482",
   "metadata": {},
   "outputs": [],
   "source": [
    "# Read data from the JSON file\n",
    "with open(file_path, 'r') as json_file:\n",
    "    data = json.load(json_file)\n"
   ]
  },
  {
   "cell_type": "code",
   "execution_count": 8,
   "id": "26390b5e",
   "metadata": {},
   "outputs": [],
   "source": [
    "# Extract the required data from the JSON\n",
    "breeds = data['message']"
   ]
  },
  {
   "cell_type": "code",
   "execution_count": 9,
   "id": "b9d19fd7",
   "metadata": {},
   "outputs": [],
   "source": [
    "# Create a DataFrame using json_normalize()\n",
    "df = pd.json_normalize(breeds)"
   ]
  },
  {
   "cell_type": "code",
   "execution_count": 14,
   "id": "ef0d5270",
   "metadata": {},
   "outputs": [],
   "source": [
    "# Reshape the DataFrame\n",
    "df = df.stack().reset_index(level=1, drop=True).to_frame('Breed')"
   ]
  },
  {
   "cell_type": "code",
   "execution_count": 16,
   "id": "da16bd69",
   "metadata": {},
   "outputs": [],
   "source": [
    "# Replace empty lists with NaN\n",
    "df['Breed'] = df['Breed'].replace([], float('NaN'))"
   ]
  },
  {
   "cell_type": "code",
   "execution_count": 17,
   "id": "de6b32ed",
   "metadata": {},
   "outputs": [
    {
     "data": {
      "text/html": [
       "<div>\n",
       "<style scoped>\n",
       "    .dataframe tbody tr th:only-of-type {\n",
       "        vertical-align: middle;\n",
       "    }\n",
       "\n",
       "    .dataframe tbody tr th {\n",
       "        vertical-align: top;\n",
       "    }\n",
       "\n",
       "    .dataframe thead th {\n",
       "        text-align: right;\n",
       "    }\n",
       "</style>\n",
       "<table border=\"1\" class=\"dataframe\">\n",
       "  <thead>\n",
       "    <tr style=\"text-align: right;\">\n",
       "      <th></th>\n",
       "      <th>Breed</th>\n",
       "    </tr>\n",
       "  </thead>\n",
       "  <tbody>\n",
       "    <tr>\n",
       "      <th>0</th>\n",
       "      <td>[]</td>\n",
       "    </tr>\n",
       "    <tr>\n",
       "      <th>0</th>\n",
       "      <td>[]</td>\n",
       "    </tr>\n",
       "    <tr>\n",
       "      <th>0</th>\n",
       "      <td>[]</td>\n",
       "    </tr>\n",
       "    <tr>\n",
       "      <th>0</th>\n",
       "      <td>[]</td>\n",
       "    </tr>\n",
       "    <tr>\n",
       "      <th>0</th>\n",
       "      <td>[]</td>\n",
       "    </tr>\n",
       "    <tr>\n",
       "      <th>...</th>\n",
       "      <td>...</td>\n",
       "    </tr>\n",
       "    <tr>\n",
       "      <th>0</th>\n",
       "      <td>[]</td>\n",
       "    </tr>\n",
       "    <tr>\n",
       "      <th>0</th>\n",
       "      <td>[spanish]</td>\n",
       "    </tr>\n",
       "    <tr>\n",
       "      <th>0</th>\n",
       "      <td>[]</td>\n",
       "    </tr>\n",
       "    <tr>\n",
       "      <th>0</th>\n",
       "      <td>[]</td>\n",
       "    </tr>\n",
       "    <tr>\n",
       "      <th>0</th>\n",
       "      <td>[irish]</td>\n",
       "    </tr>\n",
       "  </tbody>\n",
       "</table>\n",
       "<p>98 rows × 1 columns</p>\n",
       "</div>"
      ],
      "text/plain": [
       "        Breed\n",
       "0          []\n",
       "0          []\n",
       "0          []\n",
       "0          []\n",
       "0          []\n",
       "..        ...\n",
       "0          []\n",
       "0   [spanish]\n",
       "0          []\n",
       "0          []\n",
       "0     [irish]\n",
       "\n",
       "[98 rows x 1 columns]"
      ]
     },
     "execution_count": 17,
     "metadata": {},
     "output_type": "execute_result"
    }
   ],
   "source": [
    "df"
   ]
  },
  {
   "cell_type": "code",
   "execution_count": null,
   "id": "c690d058",
   "metadata": {},
   "outputs": [],
   "source": []
  }
 ],
 "metadata": {
  "kernelspec": {
   "display_name": "Python 3 (ipykernel)",
   "language": "python",
   "name": "python3"
  },
  "language_info": {
   "codemirror_mode": {
    "name": "ipython",
    "version": 3
   },
   "file_extension": ".py",
   "mimetype": "text/x-python",
   "name": "python",
   "nbconvert_exporter": "python",
   "pygments_lexer": "ipython3",
   "version": "3.8.8"
  }
 },
 "nbformat": 4,
 "nbformat_minor": 5
}
