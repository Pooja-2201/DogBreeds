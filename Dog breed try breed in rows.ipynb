{
 "cells": [
  {
   "cell_type": "code",
   "execution_count": 1,
   "id": "7d02a48d",
   "metadata": {},
   "outputs": [],
   "source": [
    "import json\n",
    "import pandas as pd\n",
    "import requests"
   ]
  },
  {
   "cell_type": "code",
   "execution_count": 2,
   "id": "4d86651a",
   "metadata": {},
   "outputs": [],
   "source": [
    "url = 'https://dog.ceo/api/breeds/list/all'"
   ]
  },
  {
   "cell_type": "code",
   "execution_count": 3,
   "id": "d696dd6f",
   "metadata": {},
   "outputs": [],
   "source": [
    "# Send a GET request to the URL\n",
    "response = requests.get(url)"
   ]
  },
  {
   "cell_type": "code",
   "execution_count": 4,
   "id": "af6b70a9",
   "metadata": {},
   "outputs": [],
   "source": [
    "# Parse the JSON response\n",
    "data = json.loads(response.text)"
   ]
  },
  {
   "cell_type": "code",
   "execution_count": 5,
   "id": "36631ecb",
   "metadata": {},
   "outputs": [],
   "source": [
    "# Extract the required data from the JSON\n",
    "breeds = data['message']"
   ]
  },
  {
   "cell_type": "code",
   "execution_count": 6,
   "id": "eef32fa0",
   "metadata": {},
   "outputs": [],
   "source": [
    "# Create a DataFrame from the breed data\n",
    "df = pd.DataFrame(breeds.items(), columns=['Breed', 'Sub-Breeds'])"
   ]
  },
  {
   "cell_type": "code",
   "execution_count": 7,
   "id": "1289c9ab",
   "metadata": {},
   "outputs": [
    {
     "name": "stderr",
     "output_type": "stream",
     "text": [
      "C:\\Users\\Admin\\AppData\\Local\\Temp\\ipykernel_72\\2942235633.py:2: FutureWarning: The default dtype for empty Series will be 'object' instead of 'float64' in a future version. Specify a dtype explicitly to silence this warning.\n",
      "  df = df.set_index('Breed')['Sub-Breeds'].apply(pd.Series).stack().reset_index(level=0).rename(columns={0: 'Sub-Breed'})\n"
     ]
    }
   ],
   "source": [
    "# Convert breed into rows using stack()\n",
    "df = df.set_index('Breed')['Sub-Breeds'].apply(pd.Series).stack().reset_index(level=0).rename(columns={0: 'Sub-Breed'})"
   ]
  },
  {
   "cell_type": "code",
   "execution_count": 8,
   "id": "a79c6fa8",
   "metadata": {},
   "outputs": [],
   "source": [
    "# Reset the index\n",
    "df = df.reset_index(drop=True)"
   ]
  },
  {
   "cell_type": "code",
   "execution_count": 9,
   "id": "9c248334",
   "metadata": {},
   "outputs": [
    {
     "data": {
      "text/html": [
       "<div>\n",
       "<style scoped>\n",
       "    .dataframe tbody tr th:only-of-type {\n",
       "        vertical-align: middle;\n",
       "    }\n",
       "\n",
       "    .dataframe tbody tr th {\n",
       "        vertical-align: top;\n",
       "    }\n",
       "\n",
       "    .dataframe thead th {\n",
       "        text-align: right;\n",
       "    }\n",
       "</style>\n",
       "<table border=\"1\" class=\"dataframe\">\n",
       "  <thead>\n",
       "    <tr style=\"text-align: right;\">\n",
       "      <th></th>\n",
       "      <th>Breed</th>\n",
       "      <th>Sub-Breed</th>\n",
       "    </tr>\n",
       "  </thead>\n",
       "  <tbody>\n",
       "    <tr>\n",
       "      <th>0</th>\n",
       "      <td>australian</td>\n",
       "      <td>shepherd</td>\n",
       "    </tr>\n",
       "    <tr>\n",
       "      <th>1</th>\n",
       "      <td>buhund</td>\n",
       "      <td>norwegian</td>\n",
       "    </tr>\n",
       "    <tr>\n",
       "      <th>2</th>\n",
       "      <td>bulldog</td>\n",
       "      <td>boston</td>\n",
       "    </tr>\n",
       "    <tr>\n",
       "      <th>3</th>\n",
       "      <td>bulldog</td>\n",
       "      <td>english</td>\n",
       "    </tr>\n",
       "    <tr>\n",
       "      <th>4</th>\n",
       "      <td>bulldog</td>\n",
       "      <td>french</td>\n",
       "    </tr>\n",
       "    <tr>\n",
       "      <th>...</th>\n",
       "      <td>...</td>\n",
       "      <td>...</td>\n",
       "    </tr>\n",
       "    <tr>\n",
       "      <th>77</th>\n",
       "      <td>terrier</td>\n",
       "      <td>westhighland</td>\n",
       "    </tr>\n",
       "    <tr>\n",
       "      <th>78</th>\n",
       "      <td>terrier</td>\n",
       "      <td>wheaten</td>\n",
       "    </tr>\n",
       "    <tr>\n",
       "      <th>79</th>\n",
       "      <td>terrier</td>\n",
       "      <td>yorkshire</td>\n",
       "    </tr>\n",
       "    <tr>\n",
       "      <th>80</th>\n",
       "      <td>waterdog</td>\n",
       "      <td>spanish</td>\n",
       "    </tr>\n",
       "    <tr>\n",
       "      <th>81</th>\n",
       "      <td>wolfhound</td>\n",
       "      <td>irish</td>\n",
       "    </tr>\n",
       "  </tbody>\n",
       "</table>\n",
       "<p>82 rows × 2 columns</p>\n",
       "</div>"
      ],
      "text/plain": [
       "         Breed     Sub-Breed\n",
       "0   australian      shepherd\n",
       "1       buhund     norwegian\n",
       "2      bulldog        boston\n",
       "3      bulldog       english\n",
       "4      bulldog        french\n",
       "..         ...           ...\n",
       "77     terrier  westhighland\n",
       "78     terrier       wheaten\n",
       "79     terrier     yorkshire\n",
       "80    waterdog       spanish\n",
       "81   wolfhound         irish\n",
       "\n",
       "[82 rows x 2 columns]"
      ]
     },
     "execution_count": 9,
     "metadata": {},
     "output_type": "execute_result"
    }
   ],
   "source": [
    "df"
   ]
  },
  {
   "cell_type": "code",
   "execution_count": 10,
   "id": "5e9d10bd",
   "metadata": {},
   "outputs": [],
   "source": [
    "file_path = 'Breed.xlsx'\n",
    "df.to_excel(file_path, index=False)"
   ]
  },
  {
   "cell_type": "code",
   "execution_count": null,
   "id": "1778ce1e",
   "metadata": {},
   "outputs": [],
   "source": []
  }
 ],
 "metadata": {
  "kernelspec": {
   "display_name": "Python 3 (ipykernel)",
   "language": "python",
   "name": "python3"
  },
  "language_info": {
   "codemirror_mode": {
    "name": "ipython",
    "version": 3
   },
   "file_extension": ".py",
   "mimetype": "text/x-python",
   "name": "python",
   "nbconvert_exporter": "python",
   "pygments_lexer": "ipython3",
   "version": "3.8.8"
  }
 },
 "nbformat": 4,
 "nbformat_minor": 5
}
