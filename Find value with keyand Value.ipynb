{
 "cells": [
  {
   "cell_type": "code",
   "execution_count": 1,
   "id": "85721741",
   "metadata": {},
   "outputs": [],
   "source": [
    "import json\n",
    "import pandas as pd\n",
    "import requests"
   ]
  },
  {
   "cell_type": "code",
   "execution_count": 2,
   "id": "ec5ffdd1",
   "metadata": {},
   "outputs": [],
   "source": [
    "url = 'https://dog.ceo/api/breeds/list/all'"
   ]
  },
  {
   "cell_type": "code",
   "execution_count": 3,
   "id": "ce594b0d",
   "metadata": {},
   "outputs": [],
   "source": [
    "response = requests.get(url)\n"
   ]
  },
  {
   "cell_type": "code",
   "execution_count": 4,
   "id": "7accf4fe",
   "metadata": {},
   "outputs": [],
   "source": [
    "data = json.loads(response.text)\n"
   ]
  },
  {
   "cell_type": "code",
   "execution_count": 5,
   "id": "f794948d",
   "metadata": {},
   "outputs": [],
   "source": [
    "file_path = 'dog_dataWithKey.json'"
   ]
  },
  {
   "cell_type": "code",
   "execution_count": 6,
   "id": "ffd12210",
   "metadata": {},
   "outputs": [],
   "source": [
    "with open(file_path, 'w') as json_file:\n",
    "    json.dump(data, json_file, indent=4)"
   ]
  },
  {
   "cell_type": "code",
   "execution_count": 7,
   "id": "da973e58",
   "metadata": {},
   "outputs": [],
   "source": [
    "with open(file_path, 'r') as json_file:\n",
    "    data = json.load(json_file)"
   ]
  },
  {
   "cell_type": "code",
   "execution_count": 8,
   "id": "d49cab49",
   "metadata": {},
   "outputs": [],
   "source": [
    "breeds = data['message']"
   ]
  },
  {
   "cell_type": "code",
   "execution_count": 9,
   "id": "09aede9c",
   "metadata": {},
   "outputs": [],
   "source": [
    "df = pd.DataFrame({'Dog': list(breeds.keys()), 'Breed': breeds.values()})"
   ]
  },
  {
   "cell_type": "code",
   "execution_count": 10,
   "id": "f0cfe9d1",
   "metadata": {},
   "outputs": [],
   "source": [
    "df = df.explode('Breed', ignore_index=True)"
   ]
  },
  {
   "cell_type": "code",
   "execution_count": 11,
   "id": "4c04338d",
   "metadata": {},
   "outputs": [],
   "source": [
    "df['Breed'] = '[' + df['Breed'] + ']'"
   ]
  },
  {
   "cell_type": "code",
   "execution_count": 12,
   "id": "d6ce9c2a",
   "metadata": {},
   "outputs": [],
   "source": [
    "df['Breed'] = df['Breed'].replace([], float('NaN'))"
   ]
  },
  {
   "cell_type": "code",
   "execution_count": 13,
   "id": "a887a041",
   "metadata": {},
   "outputs": [],
   "source": [
    "#df['Breed'] = df['Breed'].apply(lambda x: ', '.join(x) if isinstance(x, list) else x)"
   ]
  },
  {
   "cell_type": "code",
   "execution_count": 14,
   "id": "b7bea579",
   "metadata": {},
   "outputs": [],
   "source": [
    "df['Breed'] = df['Breed'].apply(lambda x: ', '.join(map(str, x)) if isinstance(x, list) else x)\n",
    "df = df.groupby('Dog')['Breed'].apply(lambda x: ', '.join(map(str, x))).reset_index()\n"
   ]
  },
  {
   "cell_type": "code",
   "execution_count": 16,
   "id": "317b6ad9",
   "metadata": {},
   "outputs": [
    {
     "data": {
      "text/html": [
       "<div>\n",
       "<style scoped>\n",
       "    .dataframe tbody tr th:only-of-type {\n",
       "        vertical-align: middle;\n",
       "    }\n",
       "\n",
       "    .dataframe tbody tr th {\n",
       "        vertical-align: top;\n",
       "    }\n",
       "\n",
       "    .dataframe thead th {\n",
       "        text-align: right;\n",
       "    }\n",
       "</style>\n",
       "<table border=\"1\" class=\"dataframe\">\n",
       "  <thead>\n",
       "    <tr style=\"text-align: right;\">\n",
       "      <th></th>\n",
       "      <th>Dog</th>\n",
       "      <th>Breed</th>\n",
       "    </tr>\n",
       "  </thead>\n",
       "  <tbody>\n",
       "    <tr>\n",
       "      <th>0</th>\n",
       "      <td>affenpinscher</td>\n",
       "      <td>nan</td>\n",
       "    </tr>\n",
       "    <tr>\n",
       "      <th>1</th>\n",
       "      <td>african</td>\n",
       "      <td>nan</td>\n",
       "    </tr>\n",
       "    <tr>\n",
       "      <th>2</th>\n",
       "      <td>airedale</td>\n",
       "      <td>nan</td>\n",
       "    </tr>\n",
       "    <tr>\n",
       "      <th>3</th>\n",
       "      <td>akita</td>\n",
       "      <td>nan</td>\n",
       "    </tr>\n",
       "    <tr>\n",
       "      <th>4</th>\n",
       "      <td>appenzeller</td>\n",
       "      <td>nan</td>\n",
       "    </tr>\n",
       "    <tr>\n",
       "      <th>...</th>\n",
       "      <td>...</td>\n",
       "      <td>...</td>\n",
       "    </tr>\n",
       "    <tr>\n",
       "      <th>93</th>\n",
       "      <td>vizsla</td>\n",
       "      <td>nan</td>\n",
       "    </tr>\n",
       "    <tr>\n",
       "      <th>94</th>\n",
       "      <td>waterdog</td>\n",
       "      <td>[spanish]</td>\n",
       "    </tr>\n",
       "    <tr>\n",
       "      <th>95</th>\n",
       "      <td>weimaraner</td>\n",
       "      <td>nan</td>\n",
       "    </tr>\n",
       "    <tr>\n",
       "      <th>96</th>\n",
       "      <td>whippet</td>\n",
       "      <td>nan</td>\n",
       "    </tr>\n",
       "    <tr>\n",
       "      <th>97</th>\n",
       "      <td>wolfhound</td>\n",
       "      <td>[irish]</td>\n",
       "    </tr>\n",
       "  </tbody>\n",
       "</table>\n",
       "<p>98 rows × 2 columns</p>\n",
       "</div>"
      ],
      "text/plain": [
       "              Dog      Breed\n",
       "0   affenpinscher        nan\n",
       "1         african        nan\n",
       "2        airedale        nan\n",
       "3           akita        nan\n",
       "4     appenzeller        nan\n",
       "..            ...        ...\n",
       "93         vizsla        nan\n",
       "94       waterdog  [spanish]\n",
       "95     weimaraner        nan\n",
       "96        whippet        nan\n",
       "97      wolfhound    [irish]\n",
       "\n",
       "[98 rows x 2 columns]"
      ]
     },
     "execution_count": 16,
     "metadata": {},
     "output_type": "execute_result"
    }
   ],
   "source": [
    "df"
   ]
  },
  {
   "cell_type": "code",
   "execution_count": 17,
   "id": "6a340a12",
   "metadata": {},
   "outputs": [],
   "source": [
    "file_path = 'BreedWithKeyandValue.xlsx'\n",
    "df.to_excel(file_path)"
   ]
  },
  {
   "cell_type": "code",
   "execution_count": null,
   "id": "9eacdb05",
   "metadata": {},
   "outputs": [],
   "source": []
  }
 ],
 "metadata": {
  "kernelspec": {
   "display_name": "Python 3 (ipykernel)",
   "language": "python",
   "name": "python3"
  },
  "language_info": {
   "codemirror_mode": {
    "name": "ipython",
    "version": 3
   },
   "file_extension": ".py",
   "mimetype": "text/x-python",
   "name": "python",
   "nbconvert_exporter": "python",
   "pygments_lexer": "ipython3",
   "version": "3.8.8"
  }
 },
 "nbformat": 4,
 "nbformat_minor": 5
}
